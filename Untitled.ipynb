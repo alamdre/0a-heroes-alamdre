{
 "cells": [
  {
   "cell_type": "code",
   "execution_count": 22,
   "metadata": {
    "collapsed": true
   },
   "outputs": [],
   "source": [
    "import pandas as BacaCsv\n",
    "Input = BacaCsv.read_csv(\"test.csv\")\n",
    "Role = []\n",
    "for a in range (len(Input)) :\n",
    "    if Input[\"movementSpeed\"][a] >= 270:\n",
    "        Role.append(\"MARKSMAN\")\n",
    "    elif Input[\"mana\"][a] >= 500:\n",
    "        Role.append(\"MAGE\")\n",
    "    elif Input[\"armor\"][a] >= 25:\n",
    "        Role.append(\"TANK\")\n",
    "    elif Input[\"physicalAttack\"][a] >= 121:\n",
    "        Role.append(\"ASSASSIN\")\n",
    "    elif Input[\"hp\"][a] >= 2580:\n",
    "        Role.append(\"FIGHTER\")\n",
    "    else :\n",
    "        Role.append(\"SUPPORT\")\n",
    "Output = BacaCsv.DataFrame({\"name\" : Input[\"name\"], \"role\" : Role})\n",
    "Output.to_csv(\"prediction.csv\", index = False)"
   ]
  },
  {
   "cell_type": "code",
   "execution_count": null,
   "metadata": {
    "collapsed": true
   },
   "outputs": [],
   "source": []
  },
  {
   "cell_type": "code",
   "execution_count": null,
   "metadata": {
    "collapsed": true
   },
   "outputs": [],
   "source": []
  },
  {
   "cell_type": "code",
   "execution_count": null,
   "metadata": {
    "collapsed": true
   },
   "outputs": [],
   "source": []
  }
 ],
 "metadata": {
  "kernelspec": {
   "display_name": "Python 3",
   "language": "python",
   "name": "python3"
  },
  "language_info": {
   "codemirror_mode": {
    "name": "ipython",
    "version": 3
   },
   "file_extension": ".py",
   "mimetype": "text/x-python",
   "name": "python",
   "nbconvert_exporter": "python",
   "pygments_lexer": "ipython3",
   "version": "3.6.3"
  }
 },
 "nbformat": 4,
 "nbformat_minor": 2
}
